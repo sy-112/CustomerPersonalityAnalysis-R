{
 "cells": [
  {
   "cell_type": "markdown",
   "id": "fed1618f",
   "metadata": {},
   "source": [
    "# Customer Personality Analysis\n"
   ]
  },
  {
   "cell_type": "markdown",
   "id": "a825cfd3",
   "metadata": {},
   "source": [
    "##### People\n",
    "* ID: Customer's unique identifier\n",
    "* Year_Birth: Customer's birth year\n",
    "* Education: Customer's education level\n",
    "* Marital_Status: Customer's marital status\n",
    "* Income: Customer's yearly household income\n",
    "* Kidhome: Number of children in customer's household\n",
    "* Teenhome: Number of teenagers in customer's household\n",
    "* Dt_Customer: Date of customer's enrollment with the company\n",
    "* Recency: Number of days since customer's last purchase\n",
    "* Complain: 1 if customer complained in the last 2 years, 0 otherwise\n",
    "\n",
    "##### Products\n",
    "* MntWines: Amount spent on wine in last 2 years\n",
    "* MntFruits: Amount spent on fruits in last 2 years\n",
    "* MntMeatProducts: Amount spent on meat in last 2 years\n",
    "* MntFishProducts: Amount spent on fish in last 2 years\n",
    "* MntSweetProducts: Amount spent on sweets in last 2 years\n",
    "* MntGoldProds: Amount spent on gold in last 2 years\n",
    "\n",
    "##### Promotion\n",
    "* NumDealsPurchases: Number of purchases made with a discount\n",
    "* AcceptedCmp1: 1 if customer accepted the offer in the 1st campaign, 0 otherwise\n",
    "* AcceptedCmp2: 1 if customer accepted the offer in the 2nd campaign, 0 otherwise\n",
    "* AcceptedCmp3: 1 if customer accepted the offer in the 3rd campaign, 0 otherwise\n",
    "* AcceptedCmp4: 1 if customer accepted the offer in the 4th campaign, 0 otherwise\n",
    "* AcceptedCmp5: 1 if customer accepted the offer in the 5th campaign, 0 otherwise\n",
    "* Response: 1 if customer accepted the offer in the last campaign, 0 otherwise\n",
    "\n",
    "##### Place\n",
    "* NumWebPurchases: Number of purchases made through the company’s web site\n",
    "* NumCatalogPurchases: Number of purchases made using a catalogue\n",
    "* NumStorePurchases: Number of purchases made directly in stores\n",
    "* NumWebVisitsMonth: Number of visits to company’s web site in the last month"
   ]
  },
  {
   "cell_type": "code",
   "execution_count": 1,
   "id": "c94bc165",
   "metadata": {},
   "outputs": [
    {
     "name": "stderr",
     "output_type": "stream",
     "text": [
      "-- Attaching packages --------------------------------------- tidyverse 1.2.1 --\n",
      "v ggplot2 3.3.5     v purrr   0.3.2\n",
      "v tibble  3.1.1     v dplyr   1.0.6\n",
      "v tidyr   1.1.3     v stringr 1.4.0\n",
      "v readr   1.3.1     v forcats 0.4.0\n",
      "Warning message:\n",
      "\"package 'tibble' was built under R version 3.6.3\"Warning message:\n",
      "\"package 'tidyr' was built under R version 3.6.3\"Warning message:\n",
      "\"package 'dplyr' was built under R version 3.6.3\"-- Conflicts ------------------------------------------ tidyverse_conflicts() --\n",
      "x dplyr::filter() masks stats::filter()\n",
      "x dplyr::lag()    masks stats::lag()\n",
      "corrplot 0.92 loaded\n",
      "Warning message:\n",
      "\"package 'reshape' was built under R version 3.6.3\"\n",
      "Attaching package: 'reshape'\n",
      "\n",
      "The following object is masked from 'package:dplyr':\n",
      "\n",
      "    rename\n",
      "\n",
      "The following objects are masked from 'package:tidyr':\n",
      "\n",
      "    expand, smiths\n",
      "\n",
      "Warning message:\n",
      "\"package 'factoextra' was built under R version 3.6.3\"Welcome! Want to learn more? See two factoextra-related books at https://goo.gl/ve3WBa\n",
      "Registered S3 method overwritten by 'GGally':\n",
      "  method from   \n",
      "  +.gg   ggplot2\n"
     ]
    }
   ],
   "source": [
    "#import relevant libraries \n",
    "library(tidyverse)\n",
    "library(ggplot2)\n",
    "library(dplyr)\n",
    "library(corrplot)\n",
    "library(reshape)\n",
    "library(factoextra)\n",
    "library(GGally)"
   ]
  },
  {
   "cell_type": "code",
   "execution_count": 2,
   "id": "84f69b09",
   "metadata": {},
   "outputs": [],
   "source": [
    "#get data \n",
    "df <- read.csv('C:/Users/sbak0/Downloads/marketing_campaign.csv', sep='\\t')"
   ]
  },
  {
   "cell_type": "code",
   "execution_count": 3,
   "id": "24f27c58",
   "metadata": {},
   "outputs": [
    {
     "data": {
      "text/html": [
       "<table>\n",
       "<thead><tr><th scope=col>ID</th><th scope=col>Year_Birth</th><th scope=col>Education</th><th scope=col>Marital_Status</th><th scope=col>Income</th><th scope=col>Kidhome</th><th scope=col>Teenhome</th><th scope=col>Dt_Customer</th><th scope=col>Recency</th><th scope=col>MntWines</th><th scope=col>...</th><th scope=col>NumWebVisitsMonth</th><th scope=col>AcceptedCmp3</th><th scope=col>AcceptedCmp4</th><th scope=col>AcceptedCmp5</th><th scope=col>AcceptedCmp1</th><th scope=col>AcceptedCmp2</th><th scope=col>Complain</th><th scope=col>Z_CostContact</th><th scope=col>Z_Revenue</th><th scope=col>Response</th></tr></thead>\n",
       "<tbody>\n",
       "\t<tr><td>5524      </td><td>1957      </td><td>Graduation</td><td>Single    </td><td>58138     </td><td>0         </td><td>0         </td><td>04-09-2012</td><td>58        </td><td>635       </td><td>...       </td><td>7         </td><td>0         </td><td>0         </td><td>0         </td><td>0         </td><td>0         </td><td>0         </td><td>3         </td><td>11        </td><td>1         </td></tr>\n",
       "\t<tr><td>2174      </td><td>1954      </td><td>Graduation</td><td>Single    </td><td>46344     </td><td>1         </td><td>1         </td><td>08-03-2014</td><td>38        </td><td> 11       </td><td>...       </td><td>5         </td><td>0         </td><td>0         </td><td>0         </td><td>0         </td><td>0         </td><td>0         </td><td>3         </td><td>11        </td><td>0         </td></tr>\n",
       "\t<tr><td>4141      </td><td>1965      </td><td>Graduation</td><td>Together  </td><td>71613     </td><td>0         </td><td>0         </td><td>21-08-2013</td><td>26        </td><td>426       </td><td>...       </td><td>4         </td><td>0         </td><td>0         </td><td>0         </td><td>0         </td><td>0         </td><td>0         </td><td>3         </td><td>11        </td><td>0         </td></tr>\n",
       "\t<tr><td>6182      </td><td>1984      </td><td>Graduation</td><td>Together  </td><td>26646     </td><td>1         </td><td>0         </td><td>10-02-2014</td><td>26        </td><td> 11       </td><td>...       </td><td>6         </td><td>0         </td><td>0         </td><td>0         </td><td>0         </td><td>0         </td><td>0         </td><td>3         </td><td>11        </td><td>0         </td></tr>\n",
       "\t<tr><td>5324      </td><td>1981      </td><td>PhD       </td><td>Married   </td><td>58293     </td><td>1         </td><td>0         </td><td>19-01-2014</td><td>94        </td><td>173       </td><td>...       </td><td>5         </td><td>0         </td><td>0         </td><td>0         </td><td>0         </td><td>0         </td><td>0         </td><td>3         </td><td>11        </td><td>0         </td></tr>\n",
       "\t<tr><td>7446      </td><td>1967      </td><td>Master    </td><td>Together  </td><td>62513     </td><td>0         </td><td>1         </td><td>09-09-2013</td><td>16        </td><td>520       </td><td>...       </td><td>6         </td><td>0         </td><td>0         </td><td>0         </td><td>0         </td><td>0         </td><td>0         </td><td>3         </td><td>11        </td><td>0         </td></tr>\n",
       "</tbody>\n",
       "</table>\n"
      ],
      "text/latex": [
       "\\begin{tabular}{r|lllllllllllllllllllllllllllll}\n",
       " ID & Year\\_Birth & Education & Marital\\_Status & Income & Kidhome & Teenhome & Dt\\_Customer & Recency & MntWines & ... & NumWebVisitsMonth & AcceptedCmp3 & AcceptedCmp4 & AcceptedCmp5 & AcceptedCmp1 & AcceptedCmp2 & Complain & Z\\_CostContact & Z\\_Revenue & Response\\\\\n",
       "\\hline\n",
       "\t 5524       & 1957       & Graduation & Single     & 58138      & 0          & 0          & 04-09-2012 & 58         & 635        & ...        & 7          & 0          & 0          & 0          & 0          & 0          & 0          & 3          & 11         & 1         \\\\\n",
       "\t 2174       & 1954       & Graduation & Single     & 46344      & 1          & 1          & 08-03-2014 & 38         &  11        & ...        & 5          & 0          & 0          & 0          & 0          & 0          & 0          & 3          & 11         & 0         \\\\\n",
       "\t 4141       & 1965       & Graduation & Together   & 71613      & 0          & 0          & 21-08-2013 & 26         & 426        & ...        & 4          & 0          & 0          & 0          & 0          & 0          & 0          & 3          & 11         & 0         \\\\\n",
       "\t 6182       & 1984       & Graduation & Together   & 26646      & 1          & 0          & 10-02-2014 & 26         &  11        & ...        & 6          & 0          & 0          & 0          & 0          & 0          & 0          & 3          & 11         & 0         \\\\\n",
       "\t 5324       & 1981       & PhD        & Married    & 58293      & 1          & 0          & 19-01-2014 & 94         & 173        & ...        & 5          & 0          & 0          & 0          & 0          & 0          & 0          & 3          & 11         & 0         \\\\\n",
       "\t 7446       & 1967       & Master     & Together   & 62513      & 0          & 1          & 09-09-2013 & 16         & 520        & ...        & 6          & 0          & 0          & 0          & 0          & 0          & 0          & 3          & 11         & 0         \\\\\n",
       "\\end{tabular}\n"
      ],
      "text/markdown": [
       "\n",
       "| ID | Year_Birth | Education | Marital_Status | Income | Kidhome | Teenhome | Dt_Customer | Recency | MntWines | ... | NumWebVisitsMonth | AcceptedCmp3 | AcceptedCmp4 | AcceptedCmp5 | AcceptedCmp1 | AcceptedCmp2 | Complain | Z_CostContact | Z_Revenue | Response |\n",
       "|---|---|---|---|---|---|---|---|---|---|---|---|---|---|---|---|---|---|---|---|---|\n",
       "| 5524       | 1957       | Graduation | Single     | 58138      | 0          | 0          | 04-09-2012 | 58         | 635        | ...        | 7          | 0          | 0          | 0          | 0          | 0          | 0          | 3          | 11         | 1          |\n",
       "| 2174       | 1954       | Graduation | Single     | 46344      | 1          | 1          | 08-03-2014 | 38         |  11        | ...        | 5          | 0          | 0          | 0          | 0          | 0          | 0          | 3          | 11         | 0          |\n",
       "| 4141       | 1965       | Graduation | Together   | 71613      | 0          | 0          | 21-08-2013 | 26         | 426        | ...        | 4          | 0          | 0          | 0          | 0          | 0          | 0          | 3          | 11         | 0          |\n",
       "| 6182       | 1984       | Graduation | Together   | 26646      | 1          | 0          | 10-02-2014 | 26         |  11        | ...        | 6          | 0          | 0          | 0          | 0          | 0          | 0          | 3          | 11         | 0          |\n",
       "| 5324       | 1981       | PhD        | Married    | 58293      | 1          | 0          | 19-01-2014 | 94         | 173        | ...        | 5          | 0          | 0          | 0          | 0          | 0          | 0          | 3          | 11         | 0          |\n",
       "| 7446       | 1967       | Master     | Together   | 62513      | 0          | 1          | 09-09-2013 | 16         | 520        | ...        | 6          | 0          | 0          | 0          | 0          | 0          | 0          | 3          | 11         | 0          |\n",
       "\n"
      ],
      "text/plain": [
       "  ID   Year_Birth Education  Marital_Status Income Kidhome Teenhome Dt_Customer\n",
       "1 5524 1957       Graduation Single         58138  0       0        04-09-2012 \n",
       "2 2174 1954       Graduation Single         46344  1       1        08-03-2014 \n",
       "3 4141 1965       Graduation Together       71613  0       0        21-08-2013 \n",
       "4 6182 1984       Graduation Together       26646  1       0        10-02-2014 \n",
       "5 5324 1981       PhD        Married        58293  1       0        19-01-2014 \n",
       "6 7446 1967       Master     Together       62513  0       1        09-09-2013 \n",
       "  Recency MntWines ... NumWebVisitsMonth AcceptedCmp3 AcceptedCmp4 AcceptedCmp5\n",
       "1 58      635      ... 7                 0            0            0           \n",
       "2 38       11      ... 5                 0            0            0           \n",
       "3 26      426      ... 4                 0            0            0           \n",
       "4 26       11      ... 6                 0            0            0           \n",
       "5 94      173      ... 5                 0            0            0           \n",
       "6 16      520      ... 6                 0            0            0           \n",
       "  AcceptedCmp1 AcceptedCmp2 Complain Z_CostContact Z_Revenue Response\n",
       "1 0            0            0        3             11        1       \n",
       "2 0            0            0        3             11        0       \n",
       "3 0            0            0        3             11        0       \n",
       "4 0            0            0        3             11        0       \n",
       "5 0            0            0        3             11        0       \n",
       "6 0            0            0        3             11        0       "
      ]
     },
     "metadata": {},
     "output_type": "display_data"
    }
   ],
   "source": [
    "head(df)"
   ]
  },
  {
   "cell_type": "code",
   "execution_count": 4,
   "id": "ffad459b",
   "metadata": {},
   "outputs": [
    {
     "name": "stdout",
     "output_type": "stream",
     "text": [
      "Rows: 2,240\n",
      "Columns: 29\n",
      "$ ID                  <int> 5524, 2174, 4141, 6182, 5324, 7446, 965, 6177, 485~\n",
      "$ Year_Birth          <int> 1957, 1954, 1965, 1984, 1981, 1967, 1971, 1985, 19~\n",
      "$ Education           <fct> Graduation, Graduation, Graduation, Graduation, Ph~\n",
      "$ Marital_Status      <fct> Single, Single, Together, Together, Married, Toget~\n",
      "$ Income              <int> 58138, 46344, 71613, 26646, 58293, 62513, 55635, 3~\n",
      "$ Kidhome             <int> 0, 1, 0, 1, 1, 0, 0, 1, 1, 1, 1, 0, 0, 1, 0, 0, 1,~\n",
      "$ Teenhome            <int> 0, 1, 0, 0, 0, 1, 1, 0, 0, 1, 0, 0, 0, 1, 0, 0, 1,~\n",
      "$ Dt_Customer         <fct> 04-09-2012, 08-03-2014, 21-08-2013, 10-02-2014, 19~\n",
      "$ Recency             <int> 58, 38, 26, 26, 94, 16, 34, 32, 19, 68, 11, 59, 82~\n",
      "$ MntWines            <int> 635, 11, 426, 11, 173, 520, 235, 76, 14, 28, 5, 6,~\n",
      "$ MntFruits           <int> 88, 1, 49, 4, 43, 42, 65, 10, 0, 0, 5, 16, 61, 2, ~\n",
      "$ MntMeatProducts     <int> 546, 6, 127, 20, 118, 98, 164, 56, 24, 6, 6, 11, 4~\n",
      "$ MntFishProducts     <int> 172, 2, 111, 10, 46, 0, 50, 3, 3, 1, 0, 11, 225, 3~\n",
      "$ MntSweetProducts    <int> 88, 1, 21, 3, 27, 42, 49, 1, 3, 1, 2, 1, 112, 5, 1~\n",
      "$ MntGoldProds        <int> 88, 6, 42, 5, 15, 14, 27, 23, 2, 13, 1, 16, 30, 14~\n",
      "$ NumDealsPurchases   <int> 3, 2, 1, 2, 5, 2, 4, 2, 1, 1, 1, 1, 1, 3, 1, 1, 3,~\n",
      "$ NumWebPurchases     <int> 8, 1, 8, 2, 5, 6, 7, 4, 3, 1, 1, 2, 3, 6, 1, 7, 3,~\n",
      "$ NumCatalogPurchases <int> 10, 1, 2, 0, 3, 4, 3, 0, 0, 0, 0, 0, 4, 1, 0, 6, 0~\n",
      "$ NumStorePurchases   <int> 4, 2, 10, 4, 6, 10, 7, 4, 2, 0, 2, 3, 8, 5, 3, 12,~\n",
      "$ NumWebVisitsMonth   <int> 7, 5, 4, 6, 5, 6, 6, 8, 9, 20, 7, 8, 2, 6, 8, 3, 8~\n",
      "$ AcceptedCmp3        <int> 0, 0, 0, 0, 0, 0, 0, 0, 0, 1, 0, 0, 0, 0, 0, 0, 0,~\n",
      "$ AcceptedCmp4        <int> 0, 0, 0, 0, 0, 0, 0, 0, 0, 0, 0, 0, 0, 0, 0, 0, 0,~\n",
      "$ AcceptedCmp5        <int> 0, 0, 0, 0, 0, 0, 0, 0, 0, 0, 0, 0, 0, 0, 0, 1, 0,~\n",
      "$ AcceptedCmp1        <int> 0, 0, 0, 0, 0, 0, 0, 0, 0, 0, 0, 0, 0, 0, 0, 1, 0,~\n",
      "$ AcceptedCmp2        <int> 0, 0, 0, 0, 0, 0, 0, 0, 0, 0, 0, 0, 0, 0, 0, 0, 0,~\n",
      "$ Complain            <int> 0, 0, 0, 0, 0, 0, 0, 0, 0, 0, 0, 0, 0, 0, 0, 0, 0,~\n",
      "$ Z_CostContact       <int> 3, 3, 3, 3, 3, 3, 3, 3, 3, 3, 3, 3, 3, 3, 3, 3, 3,~\n",
      "$ Z_Revenue           <int> 11, 11, 11, 11, 11, 11, 11, 11, 11, 11, 11, 11, 11~\n",
      "$ Response            <int> 1, 0, 0, 0, 0, 0, 0, 0, 1, 0, 0, 0, 0, 0, 0, 1, 0,~\n"
     ]
    }
   ],
   "source": [
    "glimpse(df)"
   ]
  },
  {
   "cell_type": "code",
   "execution_count": 5,
   "id": "f013bd58",
   "metadata": {},
   "outputs": [
    {
     "data": {
      "text/html": [
       "24"
      ],
      "text/latex": [
       "24"
      ],
      "text/markdown": [
       "24"
      ],
      "text/plain": [
       "[1] 24"
      ]
     },
     "metadata": {},
     "output_type": "display_data"
    }
   ],
   "source": [
    "#missing data\n",
    "sum(is.na(df))"
   ]
  },
  {
   "cell_type": "code",
   "execution_count": 6,
   "id": "5435d30c",
   "metadata": {},
   "outputs": [],
   "source": [
    "#drop na \n",
    "df1 <- na.omit(df)"
   ]
  },
  {
   "cell_type": "code",
   "execution_count": 7,
   "id": "a963afbe",
   "metadata": {},
   "outputs": [],
   "source": [
    "#Total_spent \n",
    "df1$Total_spent <- df1$MntFishProducts + df1$MntFruits + df1$MntGoldProds +\n",
    "                   df1$MntMeatProducts + df1$MntSweetProducts + df1$MntWines"
   ]
  },
  {
   "cell_type": "code",
   "execution_count": 8,
   "id": "0a1342ab",
   "metadata": {},
   "outputs": [
    {
     "ename": "ERROR",
     "evalue": "Error in boxplot(df1$Total_spent, main = \"Total Spent by Customers\", xlab = \"Total\", : non-numeric argument to binary operator\n",
     "output_type": "error",
     "traceback": [
      "Error in boxplot(df1$Total_spent, main = \"Total Spent by Customers\", xlab = \"Total\", : non-numeric argument to binary operator\nTraceback:\n"
     ]
    },
    {
     "data": {
      "image/png": "[encoded data removed]",
      "text/plain": [
       "Plot with title \"Total Spent by Customers\""
      ]
     },
     "metadata": {},
     "output_type": "display_data"
    }
   ],
   "source": [
    "boxplot(df1$Total_spent, main='Total Spent by Customers', \n",
    "       xlab='Total', col = '#adcae6', horizontal=TRUE, notch=TRUE)+\n",
    "    options(repr.plot.width=5, repr.plot.height=5, repr.plot.res=100)"
   ]
  },
  {
   "cell_type": "markdown",
   "id": "410ca41b",
   "metadata": {},
   "source": [
    "## Understand the Customer"
   ]
  },
  {
   "cell_type": "markdown",
   "id": "7e2cc6bb",
   "metadata": {},
   "source": [
    "### Age"
   ]
  },
  {
   "cell_type": "code",
   "execution_count": 9,
   "id": "03bc89a6",
   "metadata": {},
   "outputs": [],
   "source": [
    "#Age \n",
    "df1$Age <- 2022 - df1$Year_Birth"
   ]
  },
  {
   "cell_type": "code",
   "execution_count": 10,
   "id": "4db6c458",
   "metadata": {},
   "outputs": [
    {
     "data": {
      "image/png": "[encoded data removed]",
      "text/plain": [
       "plot without title"
      ]
     },
     "metadata": {},
     "output_type": "display_data"
    }
   ],
   "source": [
    "#Check Age outliers to see if there is any weird data\n",
    "ggplot(df1, aes(1:length(ID), Age))+\n",
    "    geom_point(color='#adcae6')+\n",
    "    labs(x='Number of id', y='Age', title='Age Outlier')"
   ]
  },
  {
   "cell_type": "markdown",
   "id": "d551b514",
   "metadata": {},
   "source": [
    "There are three outliers in the Age data and those are above the age of 100 and close to 125. Since, its very unlikey to be truw those three outliers will be dropped."
   ]
  },
  {
   "cell_type": "code",
   "execution_count": 11,
   "id": "f152025c",
   "metadata": {},
   "outputs": [],
   "source": [
    "#Three outliers are drop as it is unlikely for someone to be aove 110 \n",
    "df1 <- df1[!(df1$Age > 100), ]"
   ]
  },
  {
   "cell_type": "code",
   "execution_count": 13,
   "id": "dff6f720",
   "metadata": {},
   "outputs": [
    {
     "data": {
      "image/png": "[encoded data removed]",
      "text/plain": [
       "plot without title"
      ]
     },
     "metadata": {},
     "output_type": "display_data"
    }
   ],
   "source": [
    "options(repr.plot.width=10, repr.plot.height=5, repr.plot.res=100)\n",
    "\n",
    "#Customer Age distribution \n",
    "ggplot(df1)+\n",
    "    geom_histogram(mapping=aes(Age), binwidth=4, fill='white', color='#adcae6')+\n",
    "    geom_vline(aes(xintercept=mean(Age)), linetype='dashed', color='blue')+\n",
    "    ggtitle('Customer Age')"
   ]
  },
  {
   "cell_type": "markdown",
   "id": "aab523b9",
   "metadata": {},
   "source": [
    "### Marital Status"
   ]
  },
  {
   "cell_type": "code",
   "execution_count": 14,
   "id": "61a176d5",
   "metadata": {},
   "outputs": [
    {
     "data": {
      "image/png": "[encoded data removed]",
      "text/plain": [
       "plot without title"
      ]
     },
     "metadata": {},
     "output_type": "display_data"
    }
   ],
   "source": [
    "#Marital_Status \n",
    "ggplot(df1, aes(x=Marital_Status,fill=Marital_Status))+\n",
    "    geom_bar()+\n",
    "    ggtitle('Marital Status')"
   ]
  },
  {
   "cell_type": "code",
   "execution_count": 15,
   "id": "099dd48d",
   "metadata": {},
   "outputs": [
    {
     "data": {
      "text/html": [
       "<ol class=list-inline>\n",
       "\t<li>Single</li>\n",
       "\t<li>Married</li>\n",
       "</ol>\n",
       "\n",
       "<details>\n",
       "\t<summary style=display:list-item;cursor:pointer>\n",
       "\t\t<strong>Levels</strong>:\n",
       "\t</summary>\n",
       "\t<ol class=list-inline>\n",
       "\t\t<li>'Absurd'</li>\n",
       "\t\t<li>'Alone'</li>\n",
       "\t\t<li>'Divorced'</li>\n",
       "\t\t<li>'Married'</li>\n",
       "\t\t<li>'Single'</li>\n",
       "\t\t<li>'Together'</li>\n",
       "\t\t<li>'Widow'</li>\n",
       "\t\t<li>'YOLO'</li>\n",
       "\t</ol>\n",
       "</details>"
      ],
      "text/latex": [
       "\\begin{enumerate*}\n",
       "\\item Single\n",
       "\\item Married\n",
       "\\end{enumerate*}\n",
       "\n",
       "\\emph{Levels}: \\begin{enumerate*}\n",
       "\\item 'Absurd'\n",
       "\\item 'Alone'\n",
       "\\item 'Divorced'\n",
       "\\item 'Married'\n",
       "\\item 'Single'\n",
       "\\item 'Together'\n",
       "\\item 'Widow'\n",
       "\\item 'YOLO'\n",
       "\\end{enumerate*}\n"
      ],
      "text/markdown": [
       "1. Single\n",
       "2. Married\n",
       "\n",
       "\n",
       "\n",
       "**Levels**: 1. 'Absurd'\n",
       "2. 'Alone'\n",
       "3. 'Divorced'\n",
       "4. 'Married'\n",
       "5. 'Single'\n",
       "6. 'Together'\n",
       "7. 'Widow'\n",
       "8. 'YOLO'\n",
       "\n",
       "\n"
      ],
      "text/plain": [
       "[1] Single  Married\n",
       "Levels: Absurd Alone Divorced Married Single Together Widow YOLO"
      ]
     },
     "metadata": {},
     "output_type": "display_data"
    }
   ],
   "source": [
    "#clean Martial_Status\n",
    "df1$Marital_Status[df1$Marital_Status == 'Absurd'] = 'Single'\n",
    "df1$Marital_Status[df1$Marital_Status == 'Alone'] = 'Single'\n",
    "df1$Marital_Status[df1$Marital_Status == 'Divorced'] = 'Single'\n",
    "df1$Marital_Status[df1$Marital_Status == 'Together'] = 'Married'\n",
    "df1$Marital_Status[df1$Marital_Status == 'Widow'] = 'Single'\n",
    "df1$Marital_Status[df1$Marital_Status == 'YOLO'] = 'Single'\n",
    "\n",
    "unique(df1$Marital_Status)"
   ]
  },
  {
   "cell_type": "code",
   "execution_count": 16,
   "id": "d636b6d7",
   "metadata": {},
   "outputs": [
    {
     "data": {
      "image/png": "[encoded data removed]",
      "text/plain": [
       "plot without title"
      ]
     },
     "metadata": {},
     "output_type": "display_data"
    }
   ],
   "source": [
    "options(repr.plot.width=6, repr.plot.height=6, repr.plot.res=100)\n",
    "\n",
    "ggplot(df1, aes(x=Marital_Status, y=Total_spent, fill=Marital_Status))+\n",
    "    geom_boxplot()+\n",
    "    ggtitle('Bax plot of Marital Status VS. Total Spent')"
   ]
  },
  {
   "cell_type": "markdown",
   "id": "c0eb58df",
   "metadata": {},
   "source": [
    "### Kids"
   ]
  },
  {
   "cell_type": "code",
   "execution_count": 17,
   "id": "2cbc4912",
   "metadata": {},
   "outputs": [],
   "source": [
    "#Total_kids \n",
    "df1$Total_kid <- df1$Kidhome + df1$Teenhome\n",
    "df1$Total_kid <- factor(df1$Total_kid)"
   ]
  },
  {
   "cell_type": "code",
   "execution_count": 18,
   "id": "2f8ba5fc",
   "metadata": {},
   "outputs": [
    {
     "data": {
      "image/png": "[encoded data removed]",
      "text/plain": [
       "plot without title"
      ]
     },
     "metadata": {},
     "output_type": "display_data"
    }
   ],
   "source": [
    "#Kids VS. Total \n",
    "ggplot(df1, aes(Total_kid, Total_spent))+\n",
    "    geom_boxplot()"
   ]
  },
  {
   "cell_type": "markdown",
   "id": "61207367",
   "metadata": {},
   "source": [
    "Through the boxplot we can know that in general the more kid one owns the less they spend. The difference in spending is more drastic "
   ]
  },
  {
   "cell_type": "markdown",
   "id": "62a6ef0d",
   "metadata": {},
   "source": [
    "### Income"
   ]
  },
  {
   "cell_type": "code",
   "execution_count": 19,
   "id": "d8de8c71",
   "metadata": {},
   "outputs": [
    {
     "data": {
      "image/png": "[encoded data removed]",
      "text/plain": [
       "plot without title"
      ]
     },
     "metadata": {},
     "output_type": "display_data"
    }
   ],
   "source": [
    "#Income outlier\n",
    "ggplot(df1, aes(1:length(ID), Income))+\n",
    "    geom_point(color='#adcae6')+\n",
    "    labs(x='Number of id', y='Income', title='Income Outlier')"
   ]
  },
  {
   "cell_type": "code",
   "execution_count": 20,
   "id": "ff017dce",
   "metadata": {},
   "outputs": [
    {
     "data": {
      "image/png": "[encoded data removed]",
      "text/plain": [
       "plot without title"
      ]
     },
     "metadata": {},
     "output_type": "display_data"
    }
   ],
   "source": [
    "#Income VS. Total spending \n",
    "ggplot(df1, aes(Income, Total_spent, color=Marital_Status))+\n",
    "    geom_point()+\n",
    "    labs(x='Income', y='Total Spending', title='Income VS. Total Spending')"
   ]
  },
  {
   "cell_type": "markdown",
   "id": "eca46006",
   "metadata": {},
   "source": [
    "## Products"
   ]
  },
  {
   "cell_type": "markdown",
   "id": "a47f630a",
   "metadata": {},
   "source": [
    "### Wine"
   ]
  },
  {
   "cell_type": "code",
   "execution_count": 21,
   "id": "f6f0dfc1",
   "metadata": {},
   "outputs": [
    {
     "data": {
      "image/png": "[encoded data removed]",
      "text/plain": [
       "plot without title"
      ]
     },
     "metadata": {},
     "output_type": "display_data"
    }
   ],
   "source": [
    "#Martial Status VS. Wines\n",
    "ggplot(df1, aes(x=Marital_Status, y=MntWines, fill=Marital_Status))+\n",
    "    geom_bar(stat='identity')+\n",
    "    ggtitle('Marital Status VS. Wines')+\n",
    "    xlab('Marital Status')+\n",
    "    ylab('Wines')"
   ]
  },
  {
   "cell_type": "code",
   "execution_count": 22,
   "id": "926a208a",
   "metadata": {},
   "outputs": [
    {
     "data": {
      "image/png": "[encoded data removed]",
      "text/plain": [
       "plot without title"
      ]
     },
     "metadata": {},
     "output_type": "display_data"
    }
   ],
   "source": [
    "#Total Kids VS. Wines\n",
    "ggplot(df1, aes(x=Total_kid, y=MntWines, fill=Total_kid))+\n",
    "    geom_bar(stat='identity')+\n",
    "    ggtitle('Total Kids VS. Wines')+\n",
    "    xlab('Total Kids')+\n",
    "    ylab('Wines')"
   ]
  },
  {
   "cell_type": "markdown",
   "id": "0f60fb7a",
   "metadata": {},
   "source": [
    "### Sweet Product"
   ]
  },
  {
   "cell_type": "code",
   "execution_count": 23,
   "id": "21259768",
   "metadata": {},
   "outputs": [
    {
     "data": {
      "image/png": "[encoded data removed]",
      "text/plain": [
       "plot without title"
      ]
     },
     "metadata": {},
     "output_type": "display_data"
    }
   ],
   "source": [
    "#Martial Status VS. Sweet Product\n",
    "ggplot(df1, aes(x=Marital_Status, y=MntSweetProducts, fill=Marital_Status))+\n",
    "    geom_bar(stat='identity')+\n",
    "    ggtitle('Marital Status VS. Sweet Product')+\n",
    "    xlab('Marital Status')+\n",
    "    ylab('Sweet Product')"
   ]
  },
  {
   "cell_type": "code",
   "execution_count": 24,
   "id": "3a9b7fbd",
   "metadata": {},
   "outputs": [
    {
     "data": {
      "image/png": "[encoded data removed]",
      "text/plain": [
       "plot without title"
      ]
     },
     "metadata": {},
     "output_type": "display_data"
    }
   ],
   "source": [
    "#MTotal Kid VS. Sweet Product\n",
    "ggplot(df1, aes(x=Total_kid, y=MntSweetProducts, fill=Total_kid))+\n",
    "    geom_bar(stat='identity')+\n",
    "    ggtitle('Total Kid VS. Sweet Product')+\n",
    "    xlab('Total Kid')+\n",
    "    ylab('Sweet Product')"
   ]
  },
  {
   "cell_type": "markdown",
   "id": "7b8359b2",
   "metadata": {},
   "source": [
    "### Product Correlation"
   ]
  },
  {
   "cell_type": "code",
   "execution_count": 25,
   "id": "3199a01d",
   "metadata": {},
   "outputs": [
    {
     "data": {
      "image/png": "[encoded data removed]",
      "text/plain": [
       "plot without title"
      ]
     },
     "metadata": {},
     "output_type": "display_data"
    }
   ],
   "source": [
    "df_products = df[c('MntWines', 'MntFruits', 'MntMeatProducts', 'MntFishProducts', 'MntSweetProducts', 'MntGoldProds')]\n",
    "ggpairs(df_products)"
   ]
  },
  {
   "cell_type": "markdown",
   "id": "a05d0769",
   "metadata": {},
   "source": [
    "## K means clustering"
   ]
  },
  {
   "cell_type": "code",
   "execution_count": 26,
   "id": "91b00f6d",
   "metadata": {},
   "outputs": [
    {
     "data": {
      "text/html": [
       "<ol class=list-inline>\n",
       "\t<li>'ID'</li>\n",
       "\t<li>'Year_Birth'</li>\n",
       "\t<li>'Education'</li>\n",
       "\t<li>'Marital_Status'</li>\n",
       "\t<li>'Income'</li>\n",
       "\t<li>'Kidhome'</li>\n",
       "\t<li>'Teenhome'</li>\n",
       "\t<li>'Dt_Customer'</li>\n",
       "\t<li>'Recency'</li>\n",
       "\t<li>'MntWines'</li>\n",
       "\t<li>'MntFruits'</li>\n",
       "\t<li>'MntMeatProducts'</li>\n",
       "\t<li>'MntFishProducts'</li>\n",
       "\t<li>'MntSweetProducts'</li>\n",
       "\t<li>'MntGoldProds'</li>\n",
       "\t<li>'NumDealsPurchases'</li>\n",
       "\t<li>'NumWebPurchases'</li>\n",
       "\t<li>'NumCatalogPurchases'</li>\n",
       "\t<li>'NumStorePurchases'</li>\n",
       "\t<li>'NumWebVisitsMonth'</li>\n",
       "\t<li>'AcceptedCmp3'</li>\n",
       "\t<li>'AcceptedCmp4'</li>\n",
       "\t<li>'AcceptedCmp5'</li>\n",
       "\t<li>'AcceptedCmp1'</li>\n",
       "\t<li>'AcceptedCmp2'</li>\n",
       "\t<li>'Complain'</li>\n",
       "\t<li>'Z_CostContact'</li>\n",
       "\t<li>'Z_Revenue'</li>\n",
       "\t<li>'Response'</li>\n",
       "\t<li>'Total_spent'</li>\n",
       "\t<li>'Age'</li>\n",
       "\t<li>'Total_kid'</li>\n",
       "</ol>\n"
      ],
      "text/latex": [
       "\\begin{enumerate*}\n",
       "\\item 'ID'\n",
       "\\item 'Year\\_Birth'\n",
       "\\item 'Education'\n",
       "\\item 'Marital\\_Status'\n",
       "\\item 'Income'\n",
       "\\item 'Kidhome'\n",
       "\\item 'Teenhome'\n",
       "\\item 'Dt\\_Customer'\n",
       "\\item 'Recency'\n",
       "\\item 'MntWines'\n",
       "\\item 'MntFruits'\n",
       "\\item 'MntMeatProducts'\n",
       "\\item 'MntFishProducts'\n",
       "\\item 'MntSweetProducts'\n",
       "\\item 'MntGoldProds'\n",
       "\\item 'NumDealsPurchases'\n",
       "\\item 'NumWebPurchases'\n",
       "\\item 'NumCatalogPurchases'\n",
       "\\item 'NumStorePurchases'\n",
       "\\item 'NumWebVisitsMonth'\n",
       "\\item 'AcceptedCmp3'\n",
       "\\item 'AcceptedCmp4'\n",
       "\\item 'AcceptedCmp5'\n",
       "\\item 'AcceptedCmp1'\n",
       "\\item 'AcceptedCmp2'\n",
       "\\item 'Complain'\n",
       "\\item 'Z\\_CostContact'\n",
       "\\item 'Z\\_Revenue'\n",
       "\\item 'Response'\n",
       "\\item 'Total\\_spent'\n",
       "\\item 'Age'\n",
       "\\item 'Total\\_kid'\n",
       "\\end{enumerate*}\n"
      ],
      "text/markdown": [
       "1. 'ID'\n",
       "2. 'Year_Birth'\n",
       "3. 'Education'\n",
       "4. 'Marital_Status'\n",
       "5. 'Income'\n",
       "6. 'Kidhome'\n",
       "7. 'Teenhome'\n",
       "8. 'Dt_Customer'\n",
       "9. 'Recency'\n",
       "10. 'MntWines'\n",
       "11. 'MntFruits'\n",
       "12. 'MntMeatProducts'\n",
       "13. 'MntFishProducts'\n",
       "14. 'MntSweetProducts'\n",
       "15. 'MntGoldProds'\n",
       "16. 'NumDealsPurchases'\n",
       "17. 'NumWebPurchases'\n",
       "18. 'NumCatalogPurchases'\n",
       "19. 'NumStorePurchases'\n",
       "20. 'NumWebVisitsMonth'\n",
       "21. 'AcceptedCmp3'\n",
       "22. 'AcceptedCmp4'\n",
       "23. 'AcceptedCmp5'\n",
       "24. 'AcceptedCmp1'\n",
       "25. 'AcceptedCmp2'\n",
       "26. 'Complain'\n",
       "27. 'Z_CostContact'\n",
       "28. 'Z_Revenue'\n",
       "29. 'Response'\n",
       "30. 'Total_spent'\n",
       "31. 'Age'\n",
       "32. 'Total_kid'\n",
       "\n",
       "\n"
      ],
      "text/plain": [
       " [1] \"ID\"                  \"Year_Birth\"          \"Education\"          \n",
       " [4] \"Marital_Status\"      \"Income\"              \"Kidhome\"            \n",
       " [7] \"Teenhome\"            \"Dt_Customer\"         \"Recency\"            \n",
       "[10] \"MntWines\"            \"MntFruits\"           \"MntMeatProducts\"    \n",
       "[13] \"MntFishProducts\"     \"MntSweetProducts\"    \"MntGoldProds\"       \n",
       "[16] \"NumDealsPurchases\"   \"NumWebPurchases\"     \"NumCatalogPurchases\"\n",
       "[19] \"NumStorePurchases\"   \"NumWebVisitsMonth\"   \"AcceptedCmp3\"       \n",
       "[22] \"AcceptedCmp4\"        \"AcceptedCmp5\"        \"AcceptedCmp1\"       \n",
       "[25] \"AcceptedCmp2\"        \"Complain\"            \"Z_CostContact\"      \n",
       "[28] \"Z_Revenue\"           \"Response\"            \"Total_spent\"        \n",
       "[31] \"Age\"                 \"Total_kid\"          "
      ]
     },
     "metadata": {},
     "output_type": "display_data"
    }
   ],
   "source": [
    "colnames(df1)"
   ]
  },
  {
   "cell_type": "code",
   "execution_count": 27,
   "id": "a69c8c5d",
   "metadata": {},
   "outputs": [
    {
     "data": {
      "image/png": "[encoded data removed]",
      "text/plain": [
       "plot without title"
      ]
     },
     "metadata": {},
     "output_type": "display_data"
    }
   ],
   "source": [
    "#remove unnecessary data\n",
    "df2 <- select_if(df1[c(5, 10:25)], is.numeric)\n",
    "\n",
    "#correlation map\n",
    "melt(cor(df2))%>%\n",
    "  ggplot(aes(X1, X2, fill=value))+\n",
    "  geom_tile()+\n",
    "  scale_fill_gradient2(low = \"firebrick4\", high = \"steelblue\") +\n",
    "  theme(axis.text.x = element_text(angle = 90, hjust = 1, vjust = 1),\n",
    "        axis.title = element_blank())"
   ]
  },
  {
   "cell_type": "code",
   "execution_count": 119,
   "id": "33543240",
   "metadata": {},
   "outputs": [
    {
     "data": {
      "image/png": "[encoded data removed]",
      "text/plain": [
       "plot without title"
      ]
     },
     "metadata": {},
     "output_type": "display_data"
    }
   ],
   "source": [
    "#find oprimal cluster\n",
    "fviz_nbclust(df2, kmeans, method = \"wss\")+\n",
    "    geom_vline(xintercept = 3, linetype = 2)"
   ]
  },
  {
   "cell_type": "code",
   "execution_count": 113,
   "id": "21fc2ffb",
   "metadata": {},
   "outputs": [
    {
     "data": {
      "image/png": "[encoded data removed]",
      "text/plain": [
       "plot without title"
      ]
     },
     "metadata": {},
     "output_type": "display_data"
    }
   ],
   "source": [
    "#cluster plot\n",
    "k_model <- kmeans(df2, 3, nstart = 100)\n",
    "fviz_cluster(k_model, data = df2, geom = c(\"point\"), ellipse.type=\"ellipse\")"
   ]
  },
  {
   "cell_type": "code",
   "execution_count": 114,
   "id": "4cd408c0",
   "metadata": {},
   "outputs": [
    {
     "data": {
      "text/html": [
       "<ol class=list-inline>\n",
       "\t<li>828</li>\n",
       "\t<li>786</li>\n",
       "\t<li>599</li>\n",
       "</ol>\n"
      ],
      "text/latex": [
       "\\begin{enumerate*}\n",
       "\\item 828\n",
       "\\item 786\n",
       "\\item 599\n",
       "\\end{enumerate*}\n"
      ],
      "text/markdown": [
       "1. 828\n",
       "2. 786\n",
       "3. 599\n",
       "\n",
       "\n"
      ],
      "text/plain": [
       "[1] 828 786 599"
      ]
     },
     "metadata": {},
     "output_type": "display_data"
    }
   ],
   "source": [
    "#size of each group\n",
    "k_model$size"
   ]
  },
  {
   "cell_type": "code",
   "execution_count": 115,
   "id": "690c5725",
   "metadata": {},
   "outputs": [],
   "source": [
    "df.c<-df1%>%\n",
    "  mutate(cluster = k_model$cluster)"
   ]
  },
  {
   "cell_type": "code",
   "execution_count": 116,
   "id": "dede7d81",
   "metadata": {},
   "outputs": [
    {
     "data": {
      "image/png": "[encoded data removed]",
      "text/plain": [
       "plot without title"
      ]
     },
     "metadata": {},
     "output_type": "display_data"
    }
   ],
   "source": [
    "#Age in each cluster\n",
    "df.c%>%\n",
    "  ggplot(aes(x=as_factor(cluster), y=Age))+\n",
    "  geom_boxplot()"
   ]
  },
  {
   "cell_type": "code",
   "execution_count": 117,
   "id": "2a4322ce",
   "metadata": {},
   "outputs": [
    {
     "data": {
      "image/png": "[encoded data removed]",
      "text/plain": [
       "plot without title"
      ]
     },
     "metadata": {},
     "output_type": "display_data"
    }
   ],
   "source": [
    "#Income cluster\n",
    "df.c%>%\n",
    "    ggplot(aes(x=as_factor(cluster), y=Income))+\n",
    "    geom_boxplot()"
   ]
  },
  {
   "cell_type": "markdown",
   "id": "6dd29c67",
   "metadata": {},
   "source": [
    "Group 3 has the highest income, Group 2 least."
   ]
  },
  {
   "cell_type": "code",
   "execution_count": 120,
   "id": "c4d144a9",
   "metadata": {},
   "outputs": [
    {
     "data": {
      "image/png": "[encoded data removed]",
      "text/plain": [
       "plot without title"
      ]
     },
     "metadata": {},
     "output_type": "display_data"
    }
   ],
   "source": [
    "#Product cluster\n",
    "df.c%>%\n",
    "  select(cluster, MntWines, MntFruits, MntMeatProducts, MntSweetProducts, MntGoldProds)%>%\n",
    "  melt(id='cluster')%>%\n",
    "  ggplot(aes(x=as_factor(cluster), y=value))+\n",
    "  geom_boxplot()+\n",
    "  facet_wrap(~variable, ncol=5)"
   ]
  },
  {
   "cell_type": "markdown",
   "id": "3197c153",
   "metadata": {},
   "source": [
    "Fruit, Sweet and Gold products are least goods to buy. \n",
    "\n",
    "Group 3 purchased most overall."
   ]
  },
  {
   "cell_type": "code",
   "execution_count": 122,
   "id": "7735c612",
   "metadata": {},
   "outputs": [
    {
     "data": {
      "image/png": "[encoded data removed]",
      "text/plain": [
       "plot without title"
      ]
     },
     "metadata": {},
     "output_type": "display_data"
    }
   ],
   "source": [
    "#Channels cluster\n",
    "df.c%>%\n",
    "  select(cluster, NumWebPurchases, NumCatalogPurchases, NumStorePurchases, NumWebVisitsMonth)%>%\n",
    "  melt(id='cluster')%>%\n",
    "  ggplot(aes(x=as_factor(cluster), y=value))+\n",
    "  geom_boxplot()+\n",
    "  facet_wrap(~variable, ncol=4)"
   ]
  },
  {
   "cell_type": "markdown",
   "id": "d2b85208",
   "metadata": {},
   "source": [
    "While Group 2 makes the most visit to the company's website, they tend to buy less from the website compare to the other groups. It is also the group that has a very low purchase through catalogue.\n",
    "\n",
    "Group 3 purchase the most directly from the store and through a catalogue. "
   ]
  },
  {
   "cell_type": "code",
   "execution_count": 125,
   "id": "82518449",
   "metadata": {},
   "outputs": [
    {
     "data": {
      "image/png": "[encoded data removed]",
      "text/plain": [
       "plot without title"
      ]
     },
     "metadata": {},
     "output_type": "display_data"
    }
   ],
   "source": [
    "#Purchase made with discount\n",
    "df.c%>%\n",
    "  ggplot(aes(x=as_factor(cluster), y=NumDealsPurchases))+\n",
    "  geom_boxplot()"
   ]
  },
  {
   "cell_type": "markdown",
   "id": "c228babe",
   "metadata": {},
   "source": [
    "Group 1 relatively seem to make more purchase when their is a discount deal, whereas Group 3 purchase the least."
   ]
  },
  {
   "cell_type": "code",
   "execution_count": 126,
   "id": "fc64dd0e",
   "metadata": {},
   "outputs": [
    {
     "data": {
      "image/png": "[encoded data removed]",
      "text/plain": [
       "plot without title"
      ]
     },
     "metadata": {},
     "output_type": "display_data"
    }
   ],
   "source": [
    "#Campaign cluster\n",
    "df.camp<-df.c%>%\n",
    "  group_by(cluster)%>%\n",
    "  summarise(\n",
    "    AcceptedCmp1=sum(AcceptedCmp1),\n",
    "    AcceptedCmp2=sum(AcceptedCmp2),\n",
    "    AcceptedCmp3=sum(AcceptedCmp3),\n",
    "    AcceptedCmp4=sum(AcceptedCmp4),\n",
    "    AcceptedCmp5=sum(AcceptedCmp5),\n",
    "    Response=sum(Response)\n",
    "  )%>%\n",
    "  mutate(\n",
    "    num = sum(k_model$size),\n",
    "    AcceptedCmp1=AcceptedCmp1/num,\n",
    "    AcceptedCmp2=AcceptedCmp2/num,\n",
    "    AcceptedCmp3=AcceptedCmp3/num,\n",
    "    AcceptedCmp4=AcceptedCmp4/num,\n",
    "    AcceptedCmp5=AcceptedCmp5/num,\n",
    "    Response=Response/num\n",
    "      )%>%\n",
    "  select(!num)\n",
    "\n",
    "#melt wasn't working so an additional step of changing it to a dataframe was added\n",
    "df.camp <- as.data.frame(df.camp)\n",
    "\n",
    "df.camp%>%\n",
    "  melt(id='cluster')%>%\n",
    "  ggplot(aes(x=as_factor(cluster), y=value))+\n",
    "  geom_point()+\n",
    "  facet_wrap(~variable, ncol=6)"
   ]
  },
  {
   "cell_type": "markdown",
   "id": "812a9a6c",
   "metadata": {},
   "source": [
    "Cmp1, Cmp2, Cmp4 and Cmp5 performs tha best to Group 3.\n",
    "\n",
    "Cmp3 performs the best for Group 2. \n",
    "\n",
    "Its clear that campaign works best for Group 3 and least for Group 2, overall."
   ]
  },
  {
   "cell_type": "markdown",
   "id": "26f2a9ee",
   "metadata": {},
   "source": [
    "## Group Features\n",
    "**Group 1 :** \n",
    "* the age is relatively high\n",
    "* income lower\n",
    "* discount deals tend to be effective\n",
    "\n",
    "**Group 2 :**\n",
    "* lowest income\n",
    "* less purchase power \n",
    "* makes most visit to the website\n",
    "* campaigns aren't effective for them except for Cmp 3\n",
    "\n",
    "**Group 3 :**\n",
    "* highest income\n",
    "* highest purchase power\n",
    "* purchases are made directly from store the most \n",
    "* visit to website is relatively low \n",
    "* campaigns is effective\n",
    "\n"
   ]
  }
 ],
 "metadata": {
  "kernelspec": {
   "display_name": "R",
   "language": "R",
   "name": "ir"
  },
  "language_info": {
   "codemirror_mode": "r",
   "file_extension": ".r",
   "mimetype": "text/x-r-source",
   "name": "R",
   "pygments_lexer": "r",
   "version": "3.6.1"
  }
 },
 "nbformat": 4,
 "nbformat_minor": 5
}
